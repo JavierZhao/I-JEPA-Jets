{
 "cells": [
  {
   "cell_type": "code",
   "execution_count": 7,
   "id": "bc0dc0eb-5a27-447c-9941-fe53167be390",
   "metadata": {
    "execution": {
     "iopub.execute_input": "2024-08-22T06:06:13.135701Z",
     "iopub.status.busy": "2024-08-22T06:06:13.135353Z",
     "iopub.status.idle": "2024-08-22T06:06:13.138043Z",
     "shell.execute_reply": "2024-08-22T06:06:13.137633Z",
     "shell.execute_reply.started": "2024-08-22T06:06:13.135682Z"
    }
   },
   "outputs": [],
   "source": [
    "import torch\n",
    "import torch.nn as nn"
   ]
  },
  {
   "cell_type": "code",
   "execution_count": 11,
   "id": "1976ed16-3349-4de1-a0ef-0cea0ad4fa8c",
   "metadata": {
    "execution": {
     "iopub.execute_input": "2024-08-22T06:08:38.026340Z",
     "iopub.status.busy": "2024-08-22T06:08:38.026158Z",
     "iopub.status.idle": "2024-08-22T06:08:38.032120Z",
     "shell.execute_reply": "2024-08-22T06:08:38.031687Z",
     "shell.execute_reply.started": "2024-08-22T06:08:38.026327Z"
    }
   },
   "outputs": [],
   "source": [
    "def custom_collate_fn(batch):    \n",
    "    \"\"\"\n",
    "    Custom collate function for DataLoader to handle variable-sized subjets and particles.\n",
    "    \"\"\"\n",
    "    print(\"\\n--- Starting custom_collate_fn ---\")\n",
    "    \n",
    "    features, subjets, subjet_masks, particle_masks = zip(*batch)\n",
    "    \n",
    "    features = torch.stack(features)\n",
    "    print(f\"Features shape after stacking: {features.shape}\")\n",
    "    \n",
    "    max_subjets = max(s.size(0) for s in subjets)\n",
    "    max_subjet_features = max(s.size(1) for s in subjets)\n",
    "    max_subjet_length = max(s.size(2) for s in subjets)\n",
    "    \n",
    "    print(f\"Max subjets: {max_subjets}\")\n",
    "    print(f\"Max subjet features: {max_subjet_features}\")\n",
    "    print(f\"Max subjet length: {max_subjet_length}\")\n",
    "    \n",
    "    padded_subjets = []\n",
    "    padded_subjet_masks = []\n",
    "    padded_particle_masks = []\n",
    "    \n",
    "    for i, (s, sm, pm) in enumerate(zip(subjets, subjet_masks, particle_masks)):\n",
    "        pad_subjets = max_subjets - s.size(0)\n",
    "        pad_features = max_subjet_features - s.size(1)\n",
    "        pad_length = max_subjet_length - s.size(2)\n",
    "        \n",
    "        print(f\"Padding required - Subjets: {pad_subjets}, Features: {pad_features}, Length: {pad_length}\")\n",
    "\n",
    "        padded_s = F.pad(s, (0, pad_length, 0, pad_features, 0, pad_subjets), \"constant\", 0)\n",
    "        padded_subjets.append(padded_s)\n",
    "        \n",
    "        padded_sm = F.pad(sm, (0, pad_subjets), \"constant\", 0)\n",
    "        padded_subjet_masks.append(padded_sm)\n",
    "        \n",
    "        padded_pm = F.pad(pm, (0, pad_length, 0, pad_subjets), \"constant\", 0)\n",
    "        padded_particle_masks.append(padded_pm)\n",
    "        \n",
    "        print(f\"Padded subjets shape: {padded_s.shape}\")\n",
    "        print(f\"Padded subjet mask shape: {padded_sm.shape}\")\n",
    "        print(f\"Padded particle mask shape: {padded_pm.shape}\")\n",
    "    \n",
    "    subjets = torch.stack(padded_subjets)\n",
    "    subjet_masks = torch.stack(padded_subjet_masks)\n",
    "    particle_masks = torch.stack(padded_particle_masks)\n",
    "    \n",
    "    print(f\"\\nFinal stacked subjets shape: {subjets.shape}\")\n",
    "    print(f\"Final stacked subjet masks shape: {subjet_masks.shape}\")\n",
    "    print(f\"Final stacked particle masks shape: {particle_masks.shape}\")\n",
    "    \n",
    "    print(\"--- End of custom_collate_fn ---\\n\")\n",
    "    \n",
    "    return features, subjets, subjet_masks, particle_masks"
   ]
  },
  {
   "cell_type": "code",
   "execution_count": 8,
   "id": "0f8d0eb6-99cc-401c-8172-bb882e714ae5",
   "metadata": {
    "execution": {
     "iopub.execute_input": "2024-08-22T06:06:13.408019Z",
     "iopub.status.busy": "2024-08-22T06:06:13.407816Z",
     "iopub.status.idle": "2024-08-22T06:06:13.413264Z",
     "shell.execute_reply": "2024-08-22T06:06:13.412853Z",
     "shell.execute_reply.started": "2024-08-22T06:06:13.408004Z"
    }
   },
   "outputs": [],
   "source": [
    "def create_random_masks(batch_size, num_subjets, num_features, subjet_length, context_scale=0.7):\n",
    "    print(f\"Creating random masks with batch_size={batch_size}, num_subjets={num_subjets}\")\n",
    "    context_masks = []\n",
    "    target_masks = []\n",
    "\n",
    "    for i in range(batch_size):\n",
    "        indices = torch.randperm(num_subjets)\n",
    "        context_size = int(num_subjets * context_scale)\n",
    "        context_indices = indices[:context_size]\n",
    "        target_indices = indices[context_size:]\n",
    "\n",
    "        context_mask = torch.zeros(num_subjets, num_features, subjet_length)\n",
    "        target_mask = torch.zeros(num_subjets, num_features, subjet_length)\n",
    "\n",
    "        context_mask[context_indices] = 1\n",
    "        target_mask[target_indices] = 1\n",
    "\n",
    "        context_masks.append(context_mask)\n",
    "        target_masks.append(target_mask)\n",
    "\n",
    "    return torch.stack(context_masks), torch.stack(target_masks)\n",
    "\n",
    "def normalize_features(features, feature_names, config, jet_type=\"Jets\"):\n",
    "    print(f\"Normalizing features with shape: {features.shape}\")\n",
    "    normalized_features = features.clone()\n",
    "    for i, feature_name in enumerate(feature_names):\n",
    "        method = config[\"INPUTS\"][\"SEQUENTIAL\"][jet_type].get(feature_name, \"none\")\n",
    "        print(f\"Normalizing feature '{feature_name}' with method '{method}'\")\n",
    "\n",
    "        if method == \"normalize\":\n",
    "            mean = features[:, i].mean()\n",
    "            std = features[:, i].std()\n",
    "            std = std if std > 1e-8 else 1.0\n",
    "            normalized_features[:, i] = (features[:, i] - mean) / std\n",
    "        elif method == \"log_normalize\":\n",
    "            normalized_features[:, i] = torch.log1p(features[:, i])\n",
    "\n",
    "    print(f\"Normalized features shape: {normalized_features.shape}\")\n",
    "    return normalized_features\n",
    "\n"
   ]
  },
  {
   "cell_type": "code",
   "execution_count": 9,
   "id": "361a1c51-f662-4e21-81c5-2f7020bf9420",
   "metadata": {
    "execution": {
     "iopub.execute_input": "2024-08-22T06:06:14.037538Z",
     "iopub.status.busy": "2024-08-22T06:06:14.037012Z",
     "iopub.status.idle": "2024-08-22T06:06:14.043416Z",
     "shell.execute_reply": "2024-08-22T06:06:14.042936Z",
     "shell.execute_reply.started": "2024-08-22T06:06:14.037517Z"
    }
   },
   "outputs": [],
   "source": [
    "def print_jet_details(jet, name):\n",
    "    print(f\"\\n{name} Jet Details:\")\n",
    "    print(f\"Shape: {jet.shape}\")\n",
    "    print(f\"Non-zero elements: {torch.count_nonzero(jet)}\")\n",
    "    print(\"\\nFirst few elements:\")\n",
    "    print(jet[0, :5, :5])\n",
    "\n",
    "def check_raw_data(subjets_data, jet_index=0):\n",
    "    print(f\"\\n--- Checking Raw Data for Jet {jet_index} ---\")\n",
    "    jet_subjets = subjets_data[jet_index]\n",
    "    print(f\"Number of subjets: {len(jet_subjets)}\")\n",
    "    print(f\"Subjet features: {list(jet_subjets[0]['features'].keys())}\")\n",
    "    print(f\"Sample subjet feature values: {jet_subjets[0]['features']}\")\n",
    "\n",
    "def check_processed_data(processed_subjets, batch_index=0):\n",
    "    print(f\"\\n--- Checking Processed Data for Batch Item {batch_index} ---\")\n",
    "    print(f\"Processed shape: {processed_subjets.shape}\")\n",
    "    if len(processed_subjets.shape) == 3:\n",
    "        num_subjets, num_features, subjet_length = processed_subjets.shape\n",
    "        print(f\"Number of subjets: {num_subjets}\")\n",
    "        print(f\"Number of features: {num_features}\")\n",
    "        print(f\"Subjet length: {subjet_length}\")\n",
    "        print(\"\\nFirst few values of each feature:\")\n",
    "        for i in range(num_features):\n",
    "            print(f\"Feature {i}: {processed_subjets[0, i, :5]}\")\n",
    "    else:\n",
    "        print(\"Unexpected shape for processed subjets\")\n",
    "\n",
    "def inspect_subjets(subjets, num_samples=5):\n",
    "    print(\"\\n--- Inspecting Subjets ---\")\n",
    "    for i in range(min(num_samples, len(subjets))):\n",
    "        subjet = subjets[i]\n",
    "        print(f\"\\nSubjet {i}:\")\n",
    "        print(f\"  pT: {subjet['features']['pT']:.2f}\")\n",
    "        print(f\"  eta: {subjet['features']['eta']:.2f}\")\n",
    "        print(f\"  phi: {subjet['features']['phi']:.2f}\")\n",
    "        print(f\"  num_ptcls: {subjet['features']['num_ptcls']}\")\n",
    "\n",
    "class DimensionCheckLayer(torch.nn.Module):\n",
    "    def __init__(self, name, expected_dims):\n",
    "        super().__init__()\n",
    "        self.name = name\n",
    "        self.expected_dims = expected_dims\n",
    "\n",
    "    def forward(self, x):\n",
    "        if len(x.shape) != self.expected_dims:\n",
    "            print(f\"WARNING: {self.name} has {len(x.shape)} dimensions, expected {self.expected_dims}\")\n",
    "        return x"
   ]
  },
  {
   "cell_type": "code",
   "execution_count": 10,
   "id": "dda988e3-4976-48b8-87af-135460160dec",
   "metadata": {
    "execution": {
     "iopub.execute_input": "2024-08-22T06:06:14.658433Z",
     "iopub.status.busy": "2024-08-22T06:06:14.658210Z",
     "iopub.status.idle": "2024-08-22T06:06:14.661482Z",
     "shell.execute_reply": "2024-08-22T06:06:14.661038Z",
     "shell.execute_reply.started": "2024-08-22T06:06:14.658416Z"
    }
   },
   "outputs": [],
   "source": [
    "def visualize_training_loss(train_losses):\n",
    "    print(\"Visualizing training loss\")\n",
    "    plt.figure(figsize=(10, 5))\n",
    "    plt.plot(train_losses, label='Training Loss')\n",
    "    plt.title('Training Loss over Epochs')\n",
    "    plt.xlabel('Epoch')\n",
    "    plt.ylabel('Loss')\n",
    "    plt.legend()\n",
    "    plt.show()"
   ]
  },
  {
   "cell_type": "code",
   "execution_count": null,
   "id": "ba801cd7-78b1-4ad1-8207-7b691e40309e",
   "metadata": {},
   "outputs": [],
   "source": []
  }
 ],
 "metadata": {
  "kernelspec": {
   "display_name": "Python 3 (ipykernel)",
   "language": "python",
   "name": "python3"
  },
  "language_info": {
   "codemirror_mode": {
    "name": "ipython",
    "version": 3
   },
   "file_extension": ".py",
   "mimetype": "text/x-python",
   "name": "python",
   "nbconvert_exporter": "python",
   "pygments_lexer": "ipython3",
   "version": "3.11.5"
  }
 },
 "nbformat": 4,
 "nbformat_minor": 5
}
