{
 "cells": [
  {
   "cell_type": "code",
   "execution_count": 1,
   "id": "b13b3f7b",
   "metadata": {
    "ExecuteTime": {
     "end_time": "2023-11-10T17:54:06.041785Z",
     "start_time": "2023-11-10T17:54:05.736186Z"
    },
    "execution": {
     "iopub.execute_input": "2024-06-19T17:06:51.029880Z",
     "iopub.status.busy": "2024-06-19T17:06:51.029596Z",
     "iopub.status.idle": "2024-06-19T17:06:52.769024Z",
     "shell.execute_reply": "2024-06-19T17:06:52.768592Z",
     "shell.execute_reply.started": "2024-06-19T17:06:51.029843Z"
    }
   },
   "outputs": [],
   "source": [
    "import os\n",
    "import pickle as pkl\n",
    "\n",
    "import matplotlib.pyplot as plt\n",
    "import numpy as np\n",
    "import torch\n",
    "\n",
    "import awkward as ak\n",
    "import fastjet\n",
    "import vector\n",
    "\n",
    "from copy import deepcopy\n",
    "\n",
    "import logging\n",
    "from pathlib import Path\n",
    "from dotenv import find_dotenv, load_dotenv\n",
    "import argparse\n",
    "import awkward as ak\n",
    "import pandas as pd\n",
    "import mplhep as hep\n",
    "import os\n",
    "import os.path as osp\n",
    "import h5py\n",
    "import json"
   ]
  },
  {
   "cell_type": "code",
   "execution_count": 4,
   "id": "5d5e0c77-ca08-4cba-8b92-0807d3756d10",
   "metadata": {
    "execution": {
     "iopub.execute_input": "2024-06-05T16:18:52.308635Z",
     "iopub.status.busy": "2024-06-05T16:18:52.308199Z",
     "iopub.status.idle": "2024-06-05T16:18:55.934694Z",
     "shell.execute_reply": "2024-06-05T16:18:55.933954Z",
     "shell.execute_reply.started": "2024-06-05T16:18:52.308616Z"
    }
   },
   "outputs": [
    {
     "name": "stdout",
     "output_type": "stream",
     "text": [
      "Requirement already satisfied: h5py in /opt/conda/lib/python3.11/site-packages (3.9.0)\n",
      "Collecting h5py\n",
      "  Obtaining dependency information for h5py from https://files.pythonhosted.org/packages/af/26/f231ee425c8df93c1abbead3d90ea4a5ff3d6aa49e0edfd3b4c017e74844/h5py-3.11.0-cp311-cp311-manylinux_2_17_x86_64.manylinux2014_x86_64.whl.metadata\n",
      "  Downloading h5py-3.11.0-cp311-cp311-manylinux_2_17_x86_64.manylinux2014_x86_64.whl.metadata (2.5 kB)\n",
      "Requirement already satisfied: numpy>=1.17.3 in /opt/conda/lib/python3.11/site-packages (from h5py) (1.24.3)\n",
      "Downloading h5py-3.11.0-cp311-cp311-manylinux_2_17_x86_64.manylinux2014_x86_64.whl (5.4 MB)\n",
      "\u001b[2K   \u001b[90m━━━━━━━━━━━━━━━━━━━━━━━━━━━━━━━━━━━━━━━━\u001b[0m \u001b[32m5.4/5.4 MB\u001b[0m \u001b[31m22.1 MB/s\u001b[0m eta \u001b[36m0:00:00\u001b[0m00:01\u001b[0m00:01\u001b[0m\n",
      "\u001b[?25hInstalling collected packages: h5py\n",
      "  Attempting uninstall: h5py\n",
      "    Found existing installation: h5py 3.9.0\n",
      "    Uninstalling h5py-3.9.0:\n",
      "      Successfully uninstalled h5py-3.9.0\n",
      "Successfully installed h5py-3.11.0\n"
     ]
    }
   ],
   "source": [
    "! pip install h5py --upgrade"
   ]
  },
  {
   "cell_type": "markdown",
   "id": "37915187-d004-4b25-a790-5ff3762dfda5",
   "metadata": {},
   "source": [
    "# Examine saved dataset"
   ]
  },
  {
   "cell_type": "markdown",
   "id": "500cc676-5564-4e3e-9fb6-05687e7b71de",
   "metadata": {},
   "source": [
    "### Load the saved dataset (this takes a while)"
   ]
  },
  {
   "cell_type": "code",
   "execution_count": 2,
   "id": "711f3906-e612-4fc5-a4d8-6b08f9c5fac2",
   "metadata": {
    "execution": {
     "iopub.execute_input": "2024-06-19T17:06:55.271898Z",
     "iopub.status.busy": "2024-06-19T17:06:55.271503Z",
     "iopub.status.idle": "2024-06-19T17:07:52.811894Z",
     "shell.execute_reply": "2024-06-19T17:07:52.811369Z",
     "shell.execute_reply.started": "2024-06-19T17:06:55.271884Z"
    }
   },
   "outputs": [],
   "source": [
    "save_path = \"../data/val\"\n",
    "with h5py.File(f'{save_path}/val_20_30.h5', 'r') as hdf:\n",
    "        # Access the dataset containing your JSON strings\n",
    "    dataset = hdf[\"subjets\"]\n",
    "    \n",
    "    # Initialize a list to hold the deserialized subjets data\n",
    "    subjets_data = []\n",
    "    particles_features = hdf[\"particles\"][\"features\"][:]\n",
    "    particles_labels = hdf[\"particles\"][\"labels\"][:]\n",
    "    \n",
    "    # Iterate over each JSON string in the dataset\n",
    "    for json_str in dataset:\n",
    "        # Deserialize the JSON string to a Python object\n",
    "        subjet = json.loads(json_str)\n",
    "        subjets_data.append(subjet)\n",
    "\n",
    "# At this point, `subjets_data` contains all your subjets as Python dictionaries"
   ]
  },
  {
   "cell_type": "markdown",
   "id": "d577db8d-b176-4271-80bf-02bdc0c02f04",
   "metadata": {},
   "source": [
    "### ~400k jets in total  \n",
    "### Each jet contains 128 particles (some are zero-padded)  \n",
    "### Each particle has 4 features: part_deta, part_dphi, part_pt_log, part_e_log"
   ]
  },
  {
   "cell_type": "code",
   "execution_count": 3,
   "id": "708a6d2c-6c7f-485b-9ec5-87459acd436a",
   "metadata": {
    "execution": {
     "iopub.execute_input": "2024-06-05T16:18:43.788530Z",
     "iopub.status.busy": "2024-06-05T16:18:43.788105Z",
     "iopub.status.idle": "2024-06-05T16:18:43.794000Z",
     "shell.execute_reply": "2024-06-05T16:18:43.793599Z",
     "shell.execute_reply.started": "2024-06-05T16:18:43.788511Z"
    }
   },
   "outputs": [
    {
     "data": {
      "text/plain": [
       "(403000, 4, 128)"
      ]
     },
     "execution_count": 3,
     "metadata": {},
     "output_type": "execute_result"
    }
   ],
   "source": [
    "particles_features.shape"
   ]
  },
  {
   "cell_type": "code",
   "execution_count": 5,
   "id": "d1f36e27-b35a-4281-809e-009f39e3fb50",
   "metadata": {
    "execution": {
     "iopub.execute_input": "2024-04-17T18:17:55.895552Z",
     "iopub.status.busy": "2024-04-17T18:17:55.895238Z",
     "iopub.status.idle": "2024-04-17T18:17:55.915511Z",
     "shell.execute_reply": "2024-04-17T18:17:55.914853Z",
     "shell.execute_reply.started": "2024-04-17T18:17:55.895526Z"
    }
   },
   "outputs": [
    {
     "data": {
      "text/plain": [
       "(403000,)"
      ]
     },
     "execution_count": 5,
     "metadata": {},
     "output_type": "execute_result"
    }
   ],
   "source": [
    "particles_labels.shape"
   ]
  },
  {
   "cell_type": "code",
   "execution_count": 6,
   "id": "23b5e7ae-8c60-461b-bca2-12ef33170119",
   "metadata": {
    "execution": {
     "iopub.execute_input": "2024-04-17T18:17:55.917916Z",
     "iopub.status.busy": "2024-04-17T18:17:55.917630Z",
     "iopub.status.idle": "2024-04-17T18:17:55.922909Z",
     "shell.execute_reply": "2024-04-17T18:17:55.922212Z",
     "shell.execute_reply.started": "2024-04-17T18:17:55.917890Z"
    }
   },
   "outputs": [
    {
     "data": {
      "text/plain": [
       "403000"
      ]
     },
     "execution_count": 6,
     "metadata": {},
     "output_type": "execute_result"
    }
   ],
   "source": [
    "len(subjets_data)"
   ]
  },
  {
   "cell_type": "markdown",
   "id": "ab9dc166-ea62-4fbf-937f-270176e2fe16",
   "metadata": {},
   "source": [
    "### Each jet is clustered into 20 different subjets (zero-padded if not enough subjets)  "
   ]
  },
  {
   "cell_type": "code",
   "execution_count": 7,
   "id": "f6c6b069-a9dc-40d5-926c-cbb3d8d75379",
   "metadata": {
    "execution": {
     "iopub.execute_input": "2024-04-17T18:17:55.924124Z",
     "iopub.status.busy": "2024-04-17T18:17:55.923683Z",
     "iopub.status.idle": "2024-04-17T18:17:55.929705Z",
     "shell.execute_reply": "2024-04-17T18:17:55.929093Z",
     "shell.execute_reply.started": "2024-04-17T18:17:55.924098Z"
    }
   },
   "outputs": [
    {
     "data": {
      "text/plain": [
       "20"
      ]
     },
     "execution_count": 7,
     "metadata": {},
     "output_type": "execute_result"
    }
   ],
   "source": [
    "len(subjets_data[0])"
   ]
  },
  {
   "cell_type": "markdown",
   "id": "70048d63-30a4-4f3c-abbe-16cfdacb8972",
   "metadata": {},
   "source": [
    "### Each subjet is a dictionary"
   ]
  },
  {
   "cell_type": "code",
   "execution_count": 8,
   "id": "af023e5d-cfea-43d5-a939-7e735c49504f",
   "metadata": {
    "execution": {
     "iopub.execute_input": "2024-04-17T18:17:55.930841Z",
     "iopub.status.busy": "2024-04-17T18:17:55.930591Z",
     "iopub.status.idle": "2024-04-17T18:17:55.936988Z",
     "shell.execute_reply": "2024-04-17T18:17:55.936351Z",
     "shell.execute_reply.started": "2024-04-17T18:17:55.930817Z"
    }
   },
   "outputs": [
    {
     "data": {
      "text/plain": [
       "dict"
      ]
     },
     "execution_count": 8,
     "metadata": {},
     "output_type": "execute_result"
    }
   ],
   "source": [
    "type(subjets_data[0][0])"
   ]
  },
  {
   "cell_type": "code",
   "execution_count": 3,
   "id": "98ea3e31-4a43-45ed-ba2f-f6e608112ffe",
   "metadata": {
    "execution": {
     "iopub.execute_input": "2024-06-14T20:13:51.118057Z",
     "iopub.status.busy": "2024-06-14T20:13:51.117835Z",
     "iopub.status.idle": "2024-06-14T20:13:51.123502Z",
     "shell.execute_reply": "2024-06-14T20:13:51.123143Z",
     "shell.execute_reply.started": "2024-06-14T20:13:51.118043Z"
    }
   },
   "outputs": [
    {
     "data": {
      "text/plain": [
       "dict_keys(['features', 'indices'])"
      ]
     },
     "execution_count": 3,
     "metadata": {},
     "output_type": "execute_result"
    }
   ],
   "source": [
    "subjets_data[0][0].keys()"
   ]
  },
  {
   "cell_type": "markdown",
   "id": "10b7a84b-ea5f-4227-b148-4294c7f662ef",
   "metadata": {},
   "source": [
    "### 'features' contains subjet level information ($p_T, \\eta, \\phi$ of the subjet, and number of particles)"
   ]
  },
  {
   "cell_type": "code",
   "execution_count": 4,
   "id": "0170540b-64bd-40e2-a636-117441901608",
   "metadata": {
    "execution": {
     "iopub.execute_input": "2024-06-14T20:13:55.649345Z",
     "iopub.status.busy": "2024-06-14T20:13:55.649138Z",
     "iopub.status.idle": "2024-06-14T20:13:55.653974Z",
     "shell.execute_reply": "2024-06-14T20:13:55.653277Z",
     "shell.execute_reply.started": "2024-06-14T20:13:55.649330Z"
    }
   },
   "outputs": [
    {
     "data": {
      "text/plain": [
       "{'pT': 563.1187802221922,\n",
       " 'eta': 0.4276622300992181,\n",
       " 'phi': 5.0734595349950595,\n",
       " 'num_ptcls': 15}"
      ]
     },
     "execution_count": 4,
     "metadata": {},
     "output_type": "execute_result"
    }
   ],
   "source": [
    "subjets_data[0][0]['features']"
   ]
  },
  {
   "cell_type": "markdown",
   "id": "3ecfa9e0-c487-408b-9dd2-6d63e70fbc9a",
   "metadata": {},
   "source": [
    "### 'indices' are the indices of the particles contained in the subjet\n",
    "### Each subjet contains 30 particles (zero-padded if not enough particles) ordered by $p_T$  \n",
    "-1 indicates zero-padded particles"
   ]
  },
  {
   "cell_type": "code",
   "execution_count": 11,
   "id": "0c7a6cf6-c115-47bb-8e0e-47765e0b6fe4",
   "metadata": {
    "execution": {
     "iopub.execute_input": "2024-04-17T18:17:55.952897Z",
     "iopub.status.busy": "2024-04-17T18:17:55.952547Z",
     "iopub.status.idle": "2024-04-17T18:17:55.958678Z",
     "shell.execute_reply": "2024-04-17T18:17:55.958069Z",
     "shell.execute_reply.started": "2024-04-17T18:17:55.952872Z"
    }
   },
   "outputs": [
    {
     "data": {
      "text/plain": [
       "30"
      ]
     },
     "execution_count": 11,
     "metadata": {},
     "output_type": "execute_result"
    }
   ],
   "source": [
    "len(subjets_data[0][0]['indices'])"
   ]
  },
  {
   "cell_type": "code",
   "execution_count": 12,
   "id": "b7357f6f-50be-4658-b9bc-69a5e46ca233",
   "metadata": {
    "execution": {
     "iopub.execute_input": "2024-04-17T18:17:55.959836Z",
     "iopub.status.busy": "2024-04-17T18:17:55.959556Z",
     "iopub.status.idle": "2024-04-17T18:17:55.966068Z",
     "shell.execute_reply": "2024-04-17T18:17:55.965523Z",
     "shell.execute_reply.started": "2024-04-17T18:17:55.959813Z"
    }
   },
   "outputs": [
    {
     "data": {
      "text/plain": [
       "[0,\n",
       " 1,\n",
       " 2,\n",
       " 3,\n",
       " 4,\n",
       " 5,\n",
       " 6,\n",
       " 7,\n",
       " 8,\n",
       " 9,\n",
       " 10,\n",
       " 11,\n",
       " 12,\n",
       " 14,\n",
       " 15,\n",
       " -1,\n",
       " -1,\n",
       " -1,\n",
       " -1,\n",
       " -1,\n",
       " -1,\n",
       " -1,\n",
       " -1,\n",
       " -1,\n",
       " -1,\n",
       " -1,\n",
       " -1,\n",
       " -1,\n",
       " -1,\n",
       " -1]"
      ]
     },
     "execution_count": 12,
     "metadata": {},
     "output_type": "execute_result"
    }
   ],
   "source": [
    "subjets_data[0][0]['indices']"
   ]
  },
  {
   "cell_type": "markdown",
   "id": "fe46e635-09d2-4f74-aae5-55a3db4e14d7",
   "metadata": {},
   "source": [
    "### We can use the indices to get the particle level features"
   ]
  },
  {
   "cell_type": "code",
   "execution_count": 18,
   "id": "566e3c09-beff-4d85-a800-3fce6c3a53b0",
   "metadata": {
    "execution": {
     "iopub.execute_input": "2024-04-17T18:22:16.204199Z",
     "iopub.status.busy": "2024-04-17T18:22:16.203822Z",
     "iopub.status.idle": "2024-04-17T18:22:16.211647Z",
     "shell.execute_reply": "2024-04-17T18:22:16.210878Z",
     "shell.execute_reply.started": "2024-04-17T18:22:16.204171Z"
    }
   },
   "outputs": [
    {
     "name": "stdout",
     "output_type": "stream",
     "text": [
      "shape: (30, 4)\n",
      "0th particle: [ 8.07034969e-03 -2.84028053e-03  5.49364185e+00  5.58603764e+00]\n",
      "real particles: [[ 8.07034969e-03 -2.84028053e-03  5.49364185e+00  5.58603764e+00]\n",
      " [ 7.74672627e-03 -4.23669815e-04  4.88897181e+00  4.98123503e+00]\n",
      " [ 1.33943260e-02  3.03339958e-03  4.23767281e+00  4.33226681e+00]\n",
      " [-2.37070918e-02  2.46822834e-03  3.04663992e+00  3.12640619e+00]\n",
      " [-8.56129825e-02  6.96027279e-03  2.87129927e+00  2.92895222e+00]\n",
      " [-2.45730877e-02 -1.53195858e-03  2.65378785e+00  2.73322177e+00]\n",
      " [-9.60916281e-04  3.13551426e-02  2.59992838e+00  2.68864846e+00]\n",
      " [ 3.11870575e-02 -2.16490030e-02  2.56456566e+00  2.66667747e+00]\n",
      " [-7.95053542e-02 -3.45020294e-02  2.35992312e+00  2.41960835e+00]\n",
      " [-7.25546777e-02 -1.01785660e-02  2.17573619e+00  2.23777437e+00]\n",
      " [-1.52146608e-01  9.38500166e-02  2.01040292e+00  2.04809928e+00]\n",
      " [ 2.57428885e-02 -1.85542107e-02  1.55479038e+00  1.65457439e+00]\n",
      " [-2.89505124e-02  2.42720842e-02  1.52238345e+00  1.60014784e+00]\n",
      " [ 2.45089233e-02  2.37343311e-02  2.99355060e-01  3.98614824e-01]\n",
      " [ 7.85098374e-02 -2.57253647e-03  6.43524751e-02  1.87703475e-01]]\n",
      "padded particles: [[0. 0. 0. 0.]\n",
      " [0. 0. 0. 0.]\n",
      " [0. 0. 0. 0.]\n",
      " [0. 0. 0. 0.]\n",
      " [0. 0. 0. 0.]\n",
      " [0. 0. 0. 0.]\n",
      " [0. 0. 0. 0.]\n",
      " [0. 0. 0. 0.]\n",
      " [0. 0. 0. 0.]\n",
      " [0. 0. 0. 0.]\n",
      " [0. 0. 0. 0.]\n",
      " [0. 0. 0. 0.]\n",
      " [0. 0. 0. 0.]\n",
      " [0. 0. 0. 0.]\n",
      " [0. 0. 0. 0.]]\n"
     ]
    }
   ],
   "source": [
    "subjet_0_0_particles = particles_features[0, :, subjets_data[0][0]['indices']]\n",
    "print(f\"shape: {subjet_0_0_particles.shape}\")\n",
    "print(f\"0th particle: {subjet_0_0_particles[0]}\")\n",
    "num_ptcls = subjets_data[0][0]['features']['num_ptcls']\n",
    "print(f\"real particles: {subjet_0_0_particles[:num_ptcls]}\")\n",
    "print(f\"padded particles: {subjet_0_0_particles[num_ptcls:]}\")"
   ]
  },
  {
   "cell_type": "code",
   "execution_count": null,
   "id": "130ce846",
   "metadata": {},
   "outputs": [],
   "source": []
  }
 ],
 "metadata": {
  "kernelspec": {
   "display_name": "Python 3 (ipykernel)",
   "language": "python",
   "name": "python3"
  },
  "language_info": {
   "codemirror_mode": {
    "name": "ipython",
    "version": 3
   },
   "file_extension": ".py",
   "mimetype": "text/x-python",
   "name": "python",
   "nbconvert_exporter": "python",
   "pygments_lexer": "ipython3",
   "version": "3.11.5"
  }
 },
 "nbformat": 4,
 "nbformat_minor": 5
}
